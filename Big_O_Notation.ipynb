{
 "cells": [
  {
   "cell_type": "code",
   "execution_count": 1,
   "metadata": {},
   "outputs": [],
   "source": [
    "# Big O Notation - Playground"
   ]
  },
  {
   "cell_type": "code",
   "execution_count": 9,
   "metadata": {},
   "outputs": [
    {
     "name": "stdout",
     "output_type": "stream",
     "text": [
      "hi\n",
      "hi\n",
      "hi\n",
      "hi\n",
      "hi\n",
      "CPU times: user 3 µs, sys: 1 µs, total: 4 µs\n",
      "Wall time: 4.77 µs\n"
     ]
    }
   ],
   "source": [
    "# O(1)\n",
    "def say_hi_n_times(n):\n",
    "    for time in range(n):\n",
    "        print(\"hi\")\n",
    "\n",
    "say_hi_n_times(5)\n",
    "%time"
   ]
  },
  {
   "cell_type": "code",
   "execution_count": 12,
   "metadata": {},
   "outputs": [
    {
     "name": "stdout",
     "output_type": "stream",
     "text": [
      "['hi', 'hi', 'hi', 'hi', 'hi']\n",
      "CPU times: user 2 µs, sys: 1 µs, total: 3 µs\n",
      "Wall time: 3.81 µs\n"
     ]
    }
   ],
   "source": [
    "# O(n)\n",
    "def list_of_hi_n_timess(n):\n",
    "    hi_list = []\n",
    "    for time in range(n):\n",
    "        hi_list.append(\"hi\")\n",
    "    return hi_list\n",
    "\n",
    "print(list_of_hi_n_timess(5))\n",
    "%time"
   ]
  },
  {
   "cell_type": "code",
   "execution_count": 11,
   "metadata": {},
   "outputs": [
    {
     "name": "stdout",
     "output_type": "stream",
     "text": [
      "-inf\n"
     ]
    }
   ],
   "source": [
    "largest = float('-inf')\n",
    "print(largest)"
   ]
  },
  {
   "cell_type": "code",
   "execution_count": 14,
   "metadata": {},
   "outputs": [
    {
     "name": "stdout",
     "output_type": "stream",
     "text": [
      "# O(n)\n",
      "# O(n)\n",
      "def say_hi_n_times(n):\n",
      "    for time in range(n):\n",
      "        print(\"hi\")\n",
      "\n",
      "say_hi_n_times(10)\n",
      "%%time\n",
      "# O(n)\n",
      "def say_hi_n_times(n):\n",
      "    for time in range(n):\n",
      "        print(\"hi\")\n",
      "\n",
      "say_hi_n_times(5)\n",
      "%%time\n",
      "# O(n)\n",
      "def say_hi_n_times(n):\n",
      "    for time in range(n):\n",
      "        print(\"hi\")\n",
      "\n",
      "say_hi_n_times(5)\n",
      "%%time\n",
      "# O(n)\n",
      "def say_hi_n_times(n):\n",
      "    for time in range(n):\n",
      "        print(\"hi\")\n",
      "\n",
      "say_hi_n_times(5)\n",
      "%time\n",
      "# O(n)\n",
      "def list_of_hi_n_timess(n):\n",
      "    hi_list = []\n",
      "    for time in range(n):\n",
      "        hi_list.append(n)\n",
      "    return hi_list\n",
      "\n",
      "print(list_of_hi_n_timess(5))\n",
      "%time\n",
      "# O(1)\n",
      "def say_hi_n_times(n):\n",
      "    for time in range(n):\n",
      "        print(\"hi\")\n",
      "\n",
      "say_hi_n_times(5)\n",
      "%time\n",
      "# O(n)\n",
      "def list_of_hi_n_timess(n):\n",
      "    hi_list = []\n",
      "    for time in range(n):\n",
      "        hi_list.append(n)\n",
      "    return hi_list\n",
      "\n",
      "print(list_of_hi_n_timess(5))\n",
      "%time\n",
      "# O(1)\n",
      "def say_hi_n_times(n):\n",
      "    for time in range(n):\n",
      "        print(\"hi\")\n",
      "\n",
      "say_hi_n_times(5)\n",
      "%time\n",
      "# O(n)\n",
      "def list_of_hi_n_timess(n):\n",
      "    hi_list = []\n",
      "    for time in range(n):\n",
      "        hi_list.append(n)\n",
      "    return hi_list\n",
      "\n",
      "print(list_of_hi_n_timess(5))\n",
      "%time\n",
      "largest = float('-inf')\n",
      "print(largest)\n",
      "# O(n)\n",
      "def list_of_hi_n_timess(n):\n",
      "    hi_list = []\n",
      "    for time in range(n):\n",
      "        hi_list.append(\"hi\")\n",
      "    return hi_list\n",
      "\n",
      "print(list_of_hi_n_timess(5))\n",
      "%time\n",
      "%dirs\n",
      "%history\n"
     ]
    }
   ],
   "source": [
    "%history"
   ]
  },
  {
   "cell_type": "code",
   "execution_count": null,
   "metadata": {},
   "outputs": [],
   "source": []
  }
 ],
 "metadata": {
  "kernelspec": {
   "display_name": "Python 3",
   "language": "python",
   "name": "python3"
  },
  "language_info": {
   "codemirror_mode": {
    "name": "ipython",
    "version": 3
   },
   "file_extension": ".py",
   "mimetype": "text/x-python",
   "name": "python",
   "nbconvert_exporter": "python",
   "pygments_lexer": "ipython3",
   "version": "3.7.4"
  }
 },
 "nbformat": 4,
 "nbformat_minor": 4
}
